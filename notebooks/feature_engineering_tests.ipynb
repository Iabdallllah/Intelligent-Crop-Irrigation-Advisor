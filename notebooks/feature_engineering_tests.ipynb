{
 "cells": [
  {
   "cell_type": "markdown",
   "id": "50c1bd78",
   "metadata": {},
   "source": [
    "# Feature Engineering & Tests\n",
    "\n",
    "This notebook explores feature engineering techniques and their impact on model performance for crop and irrigation prediction tasks.\n",
    "\n",
    "## Table of Contents\n",
    "1. Import Required Libraries\n",
    "2. Load Datasets\n",
    "3. Feature Selection\n",
    "4. Feature Transformation\n",
    "5. Feature Creation\n",
    "6. Feature Scaling\n",
    "7. Feature Importance Analysis\n",
    "8. Feature Engineering Experiments\n",
    "9. Model Performance Comparison\n",
    "10. Insights & Recommendations\n",
    "---"
   ]
  },
  {
   "cell_type": "markdown",
   "id": "e37d9fd3",
   "metadata": {},
   "source": [
    "## 1. Import Required Libraries"
   ]
  },
  {
   "cell_type": "code",
   "execution_count": 9,
   "id": "67ff8c0c",
   "metadata": {},
   "outputs": [],
   "source": [
    "# Import libraries\n",
    "import pandas as pd\n",
    "import numpy as np\n",
    "from sklearn.preprocessing import StandardScaler, MinMaxScaler, OneHotEncoder\n",
    "from sklearn.feature_selection import SelectKBest, f_classif\n",
    "import matplotlib.pyplot as plt\n",
    "import seaborn as sns\n",
    "sns.set(style=\"whitegrid\")"
   ]
  },
  {
   "cell_type": "markdown",
   "id": "55a6f021",
   "metadata": {},
   "source": [
    "## 2. Load Datasets"
   ]
  },
  {
   "cell_type": "code",
   "execution_count": 10,
   "id": "df2e829e",
   "metadata": {},
   "outputs": [
    {
     "name": "stdout",
     "output_type": "stream",
     "text": [
      "Crop Data Shape: (2200, 8)\n",
      "Irrigation Data Shape: (100000, 35)\n"
     ]
    }
   ],
   "source": [
    "# Load crop and irrigation datasets\n",
    "crop_data = pd.read_csv('../data/crop_data.csv')\n",
    "irrigation_data = pd.read_csv('../data/Final_irregation_optimization_data.csv')\n",
    "\n",
    "print('Crop Data Shape:', crop_data.shape)\n",
    "print('Irrigation Data Shape:', irrigation_data.shape)"
   ]
  },
  {
   "cell_type": "markdown",
   "id": "407f2fe9",
   "metadata": {},
   "source": [
    "## 3. Feature Selection"
   ]
  },
  {
   "cell_type": "code",
   "execution_count": 11,
   "id": "6ec30f31",
   "metadata": {},
   "outputs": [
    {
     "name": "stdout",
     "output_type": "stream",
     "text": [
      "Top 5 Crop Features: ['N', 'P', 'K', 'humidity', 'rainfall']\n"
     ]
    }
   ],
   "source": [
    "# SelectKBest for crop_data (classification)\n",
    "if 'label' in crop_data.columns:\n",
    "    X_crop = crop_data.drop('label', axis=1)\n",
    "    y_crop = crop_data['label']\n",
    "elif 'Crop' in crop_data.columns:\n",
    "    X_crop = crop_data.drop('Crop', axis=1)\n",
    "    y_crop = crop_data['Crop']\n",
    "else:\n",
    "    X_crop = crop_data.iloc[:,:-1]\n",
    "    y_crop = crop_data.iloc[:,-1]\n",
    "\n",
    "selector = SelectKBest(score_func=f_classif, k=5)\n",
    "X_new = selector.fit_transform(X_crop.select_dtypes(include=np.number), y_crop)\n",
    "selected_features = X_crop.select_dtypes(include=np.number).columns[selector.get_support()]\n",
    "print('Top 5 Crop Features:', list(selected_features))"
   ]
  },
  {
   "cell_type": "markdown",
   "id": "b8a405f4",
   "metadata": {},
   "source": [
    "## 4. Feature Transformation"
   ]
  },
  {
   "cell_type": "code",
   "execution_count": 12,
   "id": "7946bb2d",
   "metadata": {},
   "outputs": [
    {
     "name": "stdout",
     "output_type": "stream",
     "text": [
      "Log-transformed columns: ['P', 'K', 'humidity']\n"
     ]
    }
   ],
   "source": [
    "# Log transform skewed features\n",
    "skewed_cols = [col for col in X_crop.select_dtypes(include=np.number).columns if abs(X_crop[col].skew()) > 1]\n",
    "for col in skewed_cols:\n",
    "    X_crop[col + '_log'] = np.log1p(X_crop[col])\n",
    "print('Log-transformed columns:', skewed_cols)"
   ]
  },
  {
   "cell_type": "markdown",
   "id": "b7859eb0",
   "metadata": {},
   "source": [
    "## 5. Feature Creation"
   ]
  },
  {
   "cell_type": "code",
   "execution_count": 13,
   "id": "cb5d2a16",
   "metadata": {},
   "outputs": [
    {
     "name": "stdout",
     "output_type": "stream",
     "text": [
      "Created interaction feature between N and P\n"
     ]
    }
   ],
   "source": [
    "# Create interaction features\n",
    "if len(selected_features) >= 2:\n",
    "    X_crop['interaction_1_2'] = X_crop[selected_features[0]] * X_crop[selected_features[1]]\n",
    "    print('Created interaction feature between', selected_features[0], 'and', selected_features[1])"
   ]
  },
  {
   "cell_type": "markdown",
   "id": "df522b9c",
   "metadata": {},
   "source": [
    "## 6. Feature Scaling"
   ]
  },
  {
   "cell_type": "code",
   "execution_count": 14,
   "id": "80737294",
   "metadata": {},
   "outputs": [
    {
     "name": "stdout",
     "output_type": "stream",
     "text": [
      "Scaled feature sample: [[ 1.0687974  -0.34455075 -0.1016875  -0.93558693  0.47266646  0.04330173\n",
      "   1.8103605  -0.03730209  0.28535367  0.47630885  0.67179795]\n",
      " [ 0.93332887  0.14061552 -0.14118477 -0.75964603  0.39705125  0.73487256\n",
      "   2.24205791  0.4152748   0.22101782  0.43001842  1.23813461]\n",
      " [ 0.25598625  0.04964684 -0.08193887 -0.51589814  0.48695381  1.77151047\n",
      "   2.92106603  0.34061378  0.31643299  0.48494981  0.43541395]\n",
      " [ 0.63529812 -0.55681099 -0.1609334   0.17280704  0.38980549  0.66030768\n",
      "   2.53704803 -0.29150666  0.1876916   0.42553249  0.08576262]\n",
      " [ 0.74367294 -0.34455075 -0.12143613 -1.08364706  0.45479163  1.49786778\n",
      "   2.89837267 -0.03730209  0.25355983  0.46545144  0.42359475]]\n"
     ]
    }
   ],
   "source": [
    "# Scale numeric features\n",
    "scaler = StandardScaler()\n",
    "X_scaled = scaler.fit_transform(X_crop.select_dtypes(include=np.number))\n",
    "print('Scaled feature sample:', X_scaled[:5])"
   ]
  },
  {
   "cell_type": "markdown",
   "id": "3928af1e",
   "metadata": {},
   "source": [
    "## 7. Feature Importance Analysis"
   ]
  },
  {
   "cell_type": "code",
   "execution_count": 15,
   "id": "c833c335",
   "metadata": {},
   "outputs": [
    {
     "name": "stdout",
     "output_type": "stream",
     "text": [
      "Feature Importances:\n",
      "rainfall           0.186803\n",
      "humidity           0.133913\n",
      "humidity_log       0.126088\n",
      "K_log              0.102799\n",
      "K                  0.088353\n",
      "P                  0.083691\n",
      "N                  0.083043\n",
      "P_log              0.075365\n",
      "interaction_1_2    0.050345\n",
      "temperature        0.046626\n",
      "ph                 0.022974\n",
      "dtype: float64\n"
     ]
    },
    {
     "data": {
      "image/png": "[encoded data removed]",
      "text/plain": [
       "<Figure size 640x480 with 1 Axes>"
      ]
     },
     "metadata": {},
     "output_type": "display_data"
    }
   ],
   "source": [
    "# Feature importance using Random Forest\n",
    "from sklearn.ensemble import RandomForestClassifier\n",
    "rf = RandomForestClassifier(n_estimators=100, random_state=42)\n",
    "rf.fit(X_scaled, y_crop)\n",
    "importances = rf.feature_importances_\n",
    "feat_names = X_crop.select_dtypes(include=np.number).columns\n",
    "feat_imp = pd.Series(importances, index=feat_names).sort_values(ascending=False)\n",
    "print('Feature Importances:')\n",
    "print(feat_imp)\n",
    "feat_imp.plot(kind='bar', title='Feature Importances')\n",
    "plt.show()"
   ]
  },
  {
   "cell_type": "markdown",
   "id": "c700d19f",
   "metadata": {},
   "source": [
    "## 8. Feature Engineering Experiments"
   ]
  },
  {
   "cell_type": "code",
   "execution_count": 16,
   "id": "2ae1bebf",
   "metadata": {},
   "outputs": [
    {
     "name": "stdout",
     "output_type": "stream",
     "text": [
      "Random Forest Accuracy with Engineered Features: 0.9931818181818182\n"
     ]
    }
   ],
   "source": [
    "# Compare model performance with engineered features\n",
    "from sklearn.model_selection import train_test_split\n",
    "from sklearn.metrics import accuracy_score\n",
    "\n",
    "X_train, X_test, y_train, y_test = train_test_split(X_scaled, y_crop, test_size=0.2, random_state=42)\n",
    "rf.fit(X_train, y_train)\n",
    "y_pred = rf.predict(X_test)\n",
    "acc = accuracy_score(y_test, y_pred)\n",
    "print('Random Forest Accuracy with Engineered Features:', acc)"
   ]
  },
  {
   "cell_type": "markdown",
   "id": "4d40766a",
   "metadata": {},
   "source": [
    "## 9. Model Performance Comparison"
   ]
  },
  {
   "cell_type": "markdown",
   "id": "67aa4d3f",
   "metadata": {},
   "source": [
    "Compare accuracy and other metrics for models trained with original vs engineered features. Document results and visualize performance differences."
   ]
  },
  {
   "cell_type": "markdown",
   "id": "6e9572d9",
   "metadata": {},
   "source": [
    "## 10. Insights & Recommendations\n",
    "\n",
    "- Document which feature engineering techniques improved model performance.\n",
    "- Summarize best practices for feature engineering in crop and irrigation prediction tasks.\n",
    "- Suggest next steps for further improvement."
   ]
  }
 ],
 "metadata": {
  "kernelspec": {
   "display_name": "projects",
   "language": "python",
   "name": "python3"
  },
  "language_info": {
   "codemirror_mode": {
    "name": "ipython",
    "version": 3
   },
   "file_extension": ".py",
   "mimetype": "text/x-python",
   "name": "python",
   "nbconvert_exporter": "python",
   "pygments_lexer": "ipython3",
   "version": "3.11.13"
  }
 },
 "nbformat": 4,
 "nbformat_minor": 5
}
