{
 "cells": [
  {
   "cell_type": "markdown",
   "id": "fcbd2038",
   "metadata": {},
   "source": [
    "# Model Comparison\n",
    "\n",
    "This notebook compares different machine learning models for crop and irrigation prediction tasks, evaluates their performance, and provides recommendations for deployment.\n",
    "\n",
    "## Table of Contents\n",
    "1. Import Required Libraries\n",
    "2. Load Datasets\n",
    "3. Train-Test Split\n",
    "4. Baseline Models\n",
    "5. Model Training & Evaluation\n",
    "6. Results Visualization\n",
    "7. Insights & Recommendations\n",
    "---"
   ]
  },
  {
   "cell_type": "markdown",
   "id": "91cc6639",
   "metadata": {},
   "source": [
    "## 1. Import Required Libraries"
   ]
  },
  {
   "cell_type": "code",
   "execution_count": 7,
   "id": "7a689d05",
   "metadata": {},
   "outputs": [],
   "source": [
    "# Import libraries\n",
    "import pandas as pd\n",
    "import numpy as np\n",
    "from sklearn.model_selection import train_test_split\n",
    "from sklearn.metrics import accuracy_score, precision_score, recall_score, f1_score\n",
    "from sklearn.ensemble import RandomForestClassifier\n",
    "from sklearn.tree import DecisionTreeClassifier\n",
    "import matplotlib.pyplot as plt\n",
    "import seaborn as sns\n",
    "sns.set(style=\"whitegrid\")"
   ]
  },
  {
   "cell_type": "markdown",
   "id": "569e5ad2",
   "metadata": {},
   "source": [
    "## 2. Load Datasets"
   ]
  },
  {
   "cell_type": "code",
   "execution_count": 8,
   "id": "e5fe14de",
   "metadata": {},
   "outputs": [
    {
     "name": "stdout",
     "output_type": "stream",
     "text": [
      "Crop Data Shape: (2200, 8)\n",
      "Irrigation Data Shape: (100000, 35)\n"
     ]
    }
   ],
   "source": [
    "# Load crop and irrigation datasets\n",
    "crop_df = pd.read_csv('../data/crop_data.csv')\n",
    "irrigation_df = pd.read_csv('../data/Final_irregation_optimization_data.csv')\n",
    "\n",
    "print('Crop Data Shape:', crop_df.shape)\n",
    "print('Irrigation Data Shape:', irrigation_df.shape)"
   ]
  },
  {
   "cell_type": "markdown",
   "id": "18f3e484",
   "metadata": {},
   "source": [
    "## 3. Train-Test Split"
   ]
  },
  {
   "cell_type": "code",
   "execution_count": 9,
   "id": "fdff7534",
   "metadata": {},
   "outputs": [
    {
     "name": "stdout",
     "output_type": "stream",
     "text": [
      "Train shape: (1760, 7) Test shape: (440, 7)\n"
     ]
    }
   ],
   "source": [
    "# Split crop data for model comparison\n",
    "if 'label' in crop_df.columns:\n",
    "    X_crop = crop_df.drop('label', axis=1)\n",
    "    y_crop = crop_df['label']\n",
    "elif 'Crop' in crop_df.columns:\n",
    "    X_crop = crop_df.drop('Crop', axis=1)\n",
    "    y_crop = crop_df['Crop']\n",
    "else:\n",
    "    X_crop = crop_df.iloc[:,:-1]\n",
    "    y_crop = crop_df.iloc[:,-1]\n",
    "\n",
    "Xc_train, Xc_test, yc_train, yc_test = train_test_split(X_crop, y_crop, test_size=0.2, random_state=42)\n",
    "print('Train shape:', Xc_train.shape, 'Test shape:', Xc_test.shape)"
   ]
  },
  {
   "cell_type": "markdown",
   "id": "ab8d6ddd",
   "metadata": {},
   "source": [
    "## 4. Baseline Models"
   ]
  },
  {
   "cell_type": "code",
   "execution_count": 10,
   "id": "ec996694",
   "metadata": {},
   "outputs": [],
   "source": [
    "# Define baseline models for comparison\n",
    "models = {\n",
    "    'Decision Tree': DecisionTreeClassifier(random_state=42),\n",
    "    'Random Forest': RandomForestClassifier(n_estimators=100, random_state=42)\n",
    "}\n",
    "results = {}"
   ]
  },
  {
   "cell_type": "code",
   "execution_count": 14,
   "id": "af5e3abb",
   "metadata": {},
   "outputs": [
    {
     "name": "stdout",
     "output_type": "stream",
     "text": [
      "Decision Tree Accuracy: 0.9864\n",
      "              precision    recall  f1-score   support\n",
      "\n",
      "       apple       1.00      1.00      1.00        23\n",
      "      banana       1.00      1.00      1.00        21\n",
      "   blackgram       0.95      1.00      0.98        20\n",
      "    chickpea       1.00      1.00      1.00        26\n",
      "     coconut       0.96      1.00      0.98        27\n",
      "      coffee       1.00      1.00      1.00        17\n",
      "      cotton       1.00      1.00      1.00        17\n",
      "      grapes       1.00      1.00      1.00        14\n",
      "        jute       0.92      0.96      0.94        23\n",
      " kidneybeans       1.00      1.00      1.00        20\n",
      "      lentil       0.92      1.00      0.96        11\n",
      "       maize       1.00      0.95      0.98        21\n",
      "       mango       1.00      1.00      1.00        19\n",
      "   mothbeans       1.00      0.92      0.96        24\n",
      "    mungbean       1.00      1.00      1.00        19\n",
      "   muskmelon       1.00      1.00      1.00        17\n",
      "      orange       1.00      1.00      1.00        14\n",
      "      papaya       1.00      1.00      1.00        23\n",
      "  pigeonpeas       1.00      1.00      1.00        23\n",
      " pomegranate       1.00      1.00      1.00        23\n",
      "        rice       0.94      0.89      0.92        19\n",
      "  watermelon       1.00      1.00      1.00        19\n",
      "\n",
      "    accuracy                           0.99       440\n",
      "   macro avg       0.99      0.99      0.99       440\n",
      "weighted avg       0.99      0.99      0.99       440\n",
      "\n",
      "Random Forest Accuracy: 0.9932\n",
      "              precision    recall  f1-score   support\n",
      "\n",
      "       apple       1.00      1.00      1.00        23\n",
      "      banana       1.00      1.00      1.00        21\n",
      "   blackgram       1.00      1.00      1.00        20\n",
      "    chickpea       1.00      1.00      1.00        26\n",
      "     coconut       1.00      1.00      1.00        27\n",
      "      coffee       1.00      1.00      1.00        17\n",
      "      cotton       1.00      1.00      1.00        17\n",
      "      grapes       1.00      1.00      1.00        14\n",
      "        jute       0.92      1.00      0.96        23\n",
      " kidneybeans       1.00      1.00      1.00        20\n",
      "      lentil       0.92      1.00      0.96        11\n",
      "       maize       1.00      1.00      1.00        21\n",
      "       mango       1.00      1.00      1.00        19\n",
      "   mothbeans       1.00      0.96      0.98        24\n",
      "    mungbean       1.00      1.00      1.00        19\n",
      "   muskmelon       1.00      1.00      1.00        17\n",
      "      orange       1.00      1.00      1.00        14\n",
      "      papaya       1.00      1.00      1.00        23\n",
      "  pigeonpeas       1.00      1.00      1.00        23\n",
      " pomegranate       1.00      1.00      1.00        23\n",
      "        rice       1.00      0.89      0.94        19\n",
      "  watermelon       1.00      1.00      1.00        19\n",
      "\n",
      "    accuracy                           0.99       440\n",
      "   macro avg       0.99      0.99      0.99       440\n",
      "weighted avg       0.99      0.99      0.99       440\n",
      "\n",
      "Random Forest Accuracy: 0.9932\n",
      "              precision    recall  f1-score   support\n",
      "\n",
      "       apple       1.00      1.00      1.00        23\n",
      "      banana       1.00      1.00      1.00        21\n",
      "   blackgram       1.00      1.00      1.00        20\n",
      "    chickpea       1.00      1.00      1.00        26\n",
      "     coconut       1.00      1.00      1.00        27\n",
      "      coffee       1.00      1.00      1.00        17\n",
      "      cotton       1.00      1.00      1.00        17\n",
      "      grapes       1.00      1.00      1.00        14\n",
      "        jute       0.92      1.00      0.96        23\n",
      " kidneybeans       1.00      1.00      1.00        20\n",
      "      lentil       0.92      1.00      0.96        11\n",
      "       maize       1.00      1.00      1.00        21\n",
      "       mango       1.00      1.00      1.00        19\n",
      "   mothbeans       1.00      0.96      0.98        24\n",
      "    mungbean       1.00      1.00      1.00        19\n",
      "   muskmelon       1.00      1.00      1.00        17\n",
      "      orange       1.00      1.00      1.00        14\n",
      "      papaya       1.00      1.00      1.00        23\n",
      "  pigeonpeas       1.00      1.00      1.00        23\n",
      " pomegranate       1.00      1.00      1.00        23\n",
      "        rice       1.00      0.89      0.94        19\n",
      "  watermelon       1.00      1.00      1.00        19\n",
      "\n",
      "    accuracy                           0.99       440\n",
      "   macro avg       0.99      0.99      0.99       440\n",
      "weighted avg       0.99      0.99      0.99       440\n",
      "\n"
     ]
    }
   ],
   "source": [
    "# Train and evaluate baseline models\n",
    "from sklearn.metrics import accuracy_score, classification_report\n",
    "\n",
    "# Use correct train/test variables from previous cell\n",
    "for name, model in models.items():\n",
    "    model.fit(Xc_train, yc_train)\n",
    "    y_pred = model.predict(Xc_test)\n",
    "    acc = accuracy_score(yc_test, y_pred)\n",
    "    results[name] = acc\n",
    "    print(f\"{name} Accuracy: {acc:.4f}\")\n",
    "    print(classification_report(yc_test, y_pred))"
   ]
  },
  {
   "cell_type": "markdown",
   "id": "cb8e33ce",
   "metadata": {},
   "source": [
    "## 5. Advanced Models\n",
    "\n",
    "Explore more advanced models to improve prediction performance, such as Gradient Boosting, XGBoost, and CatBoost."
   ]
  },
  {
   "cell_type": "code",
   "execution_count": 16,
   "id": "ec88427b",
   "metadata": {},
   "outputs": [
    {
     "name": "stdout",
     "output_type": "stream",
     "text": [
      "Gradient Boosting Accuracy: 0.9818\n",
      "              precision    recall  f1-score   support\n",
      "\n",
      "       apple       1.00      1.00      1.00        23\n",
      "      banana       1.00      1.00      1.00        21\n",
      "   blackgram       0.95      1.00      0.98        20\n",
      "    chickpea       1.00      1.00      1.00        26\n",
      "     coconut       1.00      0.96      0.98        27\n",
      "      coffee       1.00      1.00      1.00        17\n",
      "      cotton       0.94      1.00      0.97        17\n",
      "      grapes       1.00      1.00      1.00        14\n",
      "        jute       0.82      1.00      0.90        23\n",
      " kidneybeans       1.00      1.00      1.00        20\n",
      "      lentil       0.92      1.00      0.96        11\n",
      "       maize       1.00      0.95      0.98        21\n",
      "       mango       1.00      1.00      1.00        19\n",
      "   mothbeans       1.00      0.96      0.98        24\n",
      "    mungbean       1.00      1.00      1.00        19\n",
      "   muskmelon       1.00      1.00      1.00        17\n",
      "      orange       1.00      1.00      1.00        14\n",
      "      papaya       1.00      1.00      1.00        23\n",
      "  pigeonpeas       1.00      0.96      0.98        23\n",
      " pomegranate       1.00      1.00      1.00        23\n",
      "        rice       1.00      0.79      0.88        19\n",
      "  watermelon       1.00      1.00      1.00        19\n",
      "\n",
      "    accuracy                           0.98       440\n",
      "   macro avg       0.98      0.98      0.98       440\n",
      "weighted avg       0.98      0.98      0.98       440\n",
      "\n",
      "CatBoost Accuracy: 0.9886\n",
      "              precision    recall  f1-score   support\n",
      "\n",
      "       apple       1.00      1.00      1.00        23\n",
      "      banana       1.00      1.00      1.00        21\n",
      "   blackgram       0.95      1.00      0.98        20\n",
      "    chickpea       1.00      1.00      1.00        26\n",
      "     coconut       1.00      1.00      1.00        27\n",
      "      coffee       1.00      1.00      1.00        17\n",
      "      cotton       1.00      1.00      1.00        17\n",
      "      grapes       1.00      1.00      1.00        14\n",
      "        jute       0.92      1.00      0.96        23\n",
      " kidneybeans       1.00      1.00      1.00        20\n",
      "      lentil       0.85      1.00      0.92        11\n",
      "       maize       1.00      1.00      1.00        21\n",
      "       mango       1.00      1.00      1.00        19\n",
      "   mothbeans       1.00      0.92      0.96        24\n",
      "    mungbean       1.00      1.00      1.00        19\n",
      "   muskmelon       1.00      1.00      1.00        17\n",
      "      orange       1.00      1.00      1.00        14\n",
      "      papaya       1.00      1.00      1.00        23\n",
      "  pigeonpeas       1.00      0.96      0.98        23\n",
      " pomegranate       1.00      1.00      1.00        23\n",
      "        rice       1.00      0.89      0.94        19\n",
      "  watermelon       1.00      1.00      1.00        19\n",
      "\n",
      "    accuracy                           0.99       440\n",
      "   macro avg       0.99      0.99      0.99       440\n",
      "weighted avg       0.99      0.99      0.99       440\n",
      "\n"
     ]
    }
   ],
   "source": [
    "# Example: Gradient Boosting and CatBoost\n",
    "from sklearn.ensemble import GradientBoostingClassifier\n",
    "from catboost import CatBoostClassifier\n",
    "from sklearn.metrics import classification_report\n",
    "\n",
    "advanced_models = {\n",
    "    'Gradient Boosting': GradientBoostingClassifier(random_state=42),\n",
    "    'CatBoost': CatBoostClassifier(verbose=0, random_state=42)\n",
    "}\n",
    "\n",
    "for name, model in advanced_models.items():\n",
    "    model.fit(Xc_train, yc_train)\n",
    "    y_pred = model.predict(Xc_test)\n",
    "    acc = accuracy_score(yc_test, y_pred)\n",
    "    results[name] = acc\n",
    "    print(f\"{name} Accuracy: {acc:.4f}\")\n",
    "    print(classification_report(yc_test, y_pred))"
   ]
  },
  {
   "cell_type": "markdown",
   "id": "9cb4621c",
   "metadata": {},
   "source": [
    "## 6. Model Performance Comparison\n",
    "\n",
    "Visualize and compare the performance of all models using accuracy scores and classification metrics."
   ]
  },
  {
   "cell_type": "code",
   "execution_count": 27,
   "id": "dcc8d87b",
   "metadata": {},
   "outputs": [
    {
     "data": {
      "image/png": "[encoded data removed]",
      "text/plain": [
       "<Figure size 800x500 with 1 Axes>"
      ]
     },
     "metadata": {},
     "output_type": "display_data"
    }
   ],
   "source": [
    "# Visualize model accuracy comparison\n",
    "import matplotlib.pyplot as plt\n",
    "\n",
    "plt.figure(figsize=(8, 5))\n",
    "plt.bar(results.keys(), results.values(), color=['skyblue', 'lightgreen', 'orange', 'purple'])\n",
    "plt.ylabel('Accuracy')\n",
    "plt.title('Model Accuracy Comparison')\n",
    "plt.ylim(0, 1)\n",
    "plt.show()"
   ]
  },
  {
   "cell_type": "markdown",
   "id": "587f1cdc",
   "metadata": {},
   "source": [
    "## 7. Model Selection and Recommendations\n",
    "\n",
    "Summarize findings, select the best-performing model, and provide recommendations for deployment or further improvement."
   ]
  },
  {
   "cell_type": "markdown",
   "id": "77548c05",
   "metadata": {},
   "source": [
    "### Summary and Next Steps\n",
    "\n",
    "- The best-performing model based on accuracy and classification metrics should be selected for deployment.\n",
    "- Consider further hyperparameter tuning, cross-validation, and feature engineering to improve results.\n",
    "- Document model assumptions and limitations.\n",
    "- Prepare the selected model for integration into the crop irrigation advisory system."
   ]
  }
 ],
 "metadata": {
  "kernelspec": {
   "display_name": "projects",
   "language": "python",
   "name": "python3"
  },
  "language_info": {
   "codemirror_mode": {
    "name": "ipython",
    "version": 3
   },
   "file_extension": ".py",
   "mimetype": "text/x-python",
   "name": "python",
   "nbconvert_exporter": "python",
   "pygments_lexer": "ipython3",
   "version": "3.11.13"
  }
 },
 "nbformat": 4,
 "nbformat_minor": 5
}
